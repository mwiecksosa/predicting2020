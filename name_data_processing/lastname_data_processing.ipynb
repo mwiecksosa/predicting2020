{
 "cells": [
  {
   "cell_type": "code",
   "execution_count": null,
   "metadata": {},
   "outputs": [],
   "source": [
    "#Author: Naina Balepur\n",
    "#nainab2@illinois.edu\n",
    "#This file takes Names_2010Census.csv, \n",
    "#and keeps only last names where over 80% of the count is from one race"
   ]
  },
  {
   "cell_type": "code",
   "execution_count": 1,
   "metadata": {},
   "outputs": [
    {
     "name": "stdout",
     "output_type": "stream",
     "text": [
      "          name pctwhite pctblack pctapi pctaian pcthispanic\n",
      "rank                                                       \n",
      "1        SMITH     70.9    23.11    0.5    0.89         2.4\n",
      "2      JOHNSON    58.97    34.63   0.54    0.94        2.36\n",
      "3     WILLIAMS    45.75    47.68   0.46    0.82        2.49\n",
      "4        BROWN    57.95     35.6   0.51    0.87        2.52\n",
      "5        JONES    55.19    38.48   0.44       1        2.29\n"
     ]
    }
   ],
   "source": [
    "import pandas\n",
    "\n",
    "df = pandas.read_csv('Names_2010Census.csv', index_col='rank')\n",
    "df.drop(['count', 'prop100k', 'cum_prop100k', 'pct2prace'], axis = 1, inplace = True) \n",
    "print(df.head())"
   ]
  },
  {
   "cell_type": "code",
   "execution_count": 2,
   "metadata": {},
   "outputs": [],
   "source": [
    "df.replace('(S)', '0', inplace = True)\n",
    "df['pctwhite'] = df['pctwhite'].astype(float)\n",
    "df['pctblack'] = df['pctblack'].astype(float)\n",
    "df['pctapi'] = df['pctapi'].astype(float)\n",
    "df['pctaian'] = df['pctaian'].astype(float)\n",
    "df['pcthispanic'] = df['pcthispanic'].astype(float)"
   ]
  },
  {
   "cell_type": "code",
   "execution_count": 3,
   "metadata": {},
   "outputs": [
    {
     "name": "stdout",
     "output_type": "stream",
     "text": [
      "[['MILLER' 'white']\n",
      " ['MURPHY' 'white']\n",
      " ['COOK' 'white']\n",
      " ...\n",
      " ['DICENT' 'hispanic']\n",
      " ['DELATEJERA' 'hispanic']\n",
      " ['EGUES' 'hispanic']]\n"
     ]
    }
   ],
   "source": [
    "import numpy as np\n",
    "\n",
    "df_white = df[df.pctwhite > 80]\n",
    "white_array = np.array(df_white.name)\n",
    "white_array = np.vstack((np.array(df_white.name), np.full(white_array.shape, 'white'))).T\n",
    "\n",
    "df_black = df[df.pctblack > 80]\n",
    "black_array = np.array(df_black.name)\n",
    "black_array = np.vstack((np.array(df_black.name), np.full(black_array.shape, 'black'))).T\n",
    "\n",
    "df_api = df[df.pctapi > 80]\n",
    "api_array = np.array(df_api.name)\n",
    "api_array = np.vstack((np.array(df_api.name), np.full(api_array.shape, 'api'))).T\n",
    "\n",
    "df_aian = df[df.pctaian > 80]\n",
    "aian_array = np.array(df_aian.name)\n",
    "aian_array = np.vstack((np.array(df_aian.name), np.full(aian_array.shape, 'aian'))).T\n",
    "\n",
    "df_hispanic = df[df.pcthispanic > 80]\n",
    "hispanic_array = np.array(df_hispanic.name)\n",
    "hispanic_array = np.vstack((np.array(df_hispanic.name), np.full(hispanic_array.shape, 'hispanic'))).T\n",
    "\n",
    "race_ethnic_array = np.vstack((white_array, black_array, api_array, aian_array, hispanic_array))"
   ]
  },
  {
   "cell_type": "code",
   "execution_count": 4,
   "metadata": {},
   "outputs": [],
   "source": [
    "np.savetxt(\"condensed_lastnames.csv\", race_ethnic_array, fmt='%s', delimiter=\",\")"
   ]
  },
  {
   "cell_type": "code",
   "execution_count": null,
   "metadata": {},
   "outputs": [],
   "source": []
  }
 ],
 "metadata": {
  "kernelspec": {
   "display_name": "Python 3",
   "language": "python",
   "name": "python3"
  },
  "language_info": {
   "codemirror_mode": {
    "name": "ipython",
    "version": 3
   },
   "file_extension": ".py",
   "mimetype": "text/x-python",
   "name": "python",
   "nbconvert_exporter": "python",
   "pygments_lexer": "ipython3",
   "version": "3.8.2"
  }
 },
 "nbformat": 4,
 "nbformat_minor": 4
}
